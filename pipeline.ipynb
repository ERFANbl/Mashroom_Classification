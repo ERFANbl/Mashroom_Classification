{
 "cells": [
  {
   "cell_type": "code",
   "execution_count": 1,
   "metadata": {},
   "outputs": [
    {
     "name": "stdout",
     "output_type": "stream",
     "text": [
      "WARNING:tensorflow:From c:\\Users\\Erfan\\.anaconda\\Lib\\site-packages\\keras\\src\\losses.py:2976: The name tf.losses.sparse_softmax_cross_entropy is deprecated. Please use tf.compat.v1.losses.sparse_softmax_cross_entropy instead.\n",
      "\n"
     ]
    }
   ],
   "source": [
    "import numpy as np\n",
    "import pandas as pd\n",
    "from matplotlib import pyplot as plt\n",
    "import tensorflow as tf\n",
    "from sklearn.preprocessing import MinMaxScaler\n",
    "from tensorflow import keras\n",
    "from keras import layers\n",
    "from feature_engine.encoding import OrdinalEncoder\n",
    "import joblib"
   ]
  },
  {
   "cell_type": "code",
   "execution_count": 2,
   "metadata": {},
   "outputs": [],
   "source": [
    "def ModelBuilder():\n",
    "    inputs = keras.Input(shape = (18))\n",
    "    X1 = layers.Dense(18,activation = \"relu\")(inputs)\n",
    "    X2 = layers.Dense(36,activation = \"relu\")(X1)\n",
    "    X3 = layers.Dense(18,activation = \"relu\")(X2)\n",
    "    X4 = layers.Dense(28,activation = \"relu\")(X3 + X1)\n",
    "    X5 = layers.Dense(20,activation = \"relu\")(X4)\n",
    "    X6 = layers.Dense(20,activation = \"relu\")(X5)\n",
    "    X6 = layers.Dropout(0.3)(X6)\n",
    "    X6 = layers.Dense(16,activation = \"relu\")(X5 + X6)\n",
    "    X7 = layers.Dense(10,activation = \"relu\")(X6)\n",
    "    X8 = layers.Dense(10,activation = \"relu\")(X7)\n",
    "    X8 = layers.Dropout(0.3)(X8)\n",
    "    X9 = layers.Dense(5,activation = \"relu\")(X8 + X7)\n",
    "    output = layers.Dense(1,activation = \"sigmoid\")(X9)\n",
    "    model = keras.Model(inputs = inputs, outputs = output)\n",
    "    return model"
   ]
  },
  {
   "cell_type": "code",
   "execution_count": 3,
   "metadata": {},
   "outputs": [],
   "source": [
    "class CustomLearningRateScheduler(tf.keras.callbacks.Callback):\n",
    "    def __init__(self, loss_limits:list, lr_reduction_factor, max_lr=1e-7):\n",
    "        super(CustomLearningRateScheduler, self).__init__()\n",
    "        self.loss_limits = loss_limits\n",
    "        self.lr_reduction_factor = lr_reduction_factor\n",
    "        self.max_lr = max_lr\n",
    "\n",
    "    def on_epoch_end(self, epoch, logs=None):\n",
    "        current_loss = logs.get('val_loss')\n",
    "        current_lr = float(tf.keras.backend.get_value(self.model.optimizer.lr))\n",
    "        \n",
    "        if  len(self.loss_limits)!=0 and current_loss < self.loss_limits[0][0] and current_loss > self.loss_limits[0][1]:\n",
    "            new_lr = min(current_lr * self.lr_reduction_factor, self.max_lr)\n",
    "            tf.keras.backend.set_value(self.model.optimizer.lr, new_lr)\n",
    "            print(f\"lr : {new_lr}\")\n",
    "        elif len(self.loss_limits)!=0 and current_loss < self.loss_limits[0][1] and len(self.loss_limits)!=1:\n",
    "            self.loss_limits.pop(0)"
   ]
  },
  {
   "cell_type": "code",
   "execution_count": 4,
   "metadata": {},
   "outputs": [],
   "source": [
    "lr_custom_callback = CustomLearningRateScheduler(\n",
    "    loss_limits = [(0.09,0.08),(0.07,0.06)],\n",
    "    lr_reduction_factor = 1.03,\n",
    "    max_lr = 3e-3\n",
    ")"
   ]
  },
  {
   "cell_type": "code",
   "execution_count": 5,
   "metadata": {},
   "outputs": [],
   "source": [
    "lr_callback = tf.keras.callbacks.ReduceLROnPlateau(\n",
    "    monitor = 'loss',\n",
    "    factor = 0.85,\n",
    "    patience = 3,\n",
    "    min_lr = 0.8e-3\n",
    ")"
   ]
  },
  {
   "cell_type": "code",
   "execution_count": 6,
   "metadata": {},
   "outputs": [
    {
     "name": "stdout",
     "output_type": "stream",
     "text": [
      "WARNING:tensorflow:From c:\\Users\\Erfan\\.anaconda\\Lib\\site-packages\\keras\\src\\backend.py:1398: The name tf.executing_eagerly_outside_functions is deprecated. Please use tf.compat.v1.executing_eagerly_outside_functions instead.\n",
      "\n"
     ]
    }
   ],
   "source": [
    "model = ModelBuilder()"
   ]
  },
  {
   "cell_type": "code",
   "execution_count": 7,
   "metadata": {},
   "outputs": [
    {
     "name": "stdout",
     "output_type": "stream",
     "text": [
      "WARNING:tensorflow:From c:\\Users\\Erfan\\.anaconda\\Lib\\site-packages\\keras\\src\\saving\\legacy\\save.py:538: The name tf.train.NewCheckpointReader is deprecated. Please use tf.compat.v1.train.NewCheckpointReader instead.\n",
      "\n"
     ]
    },
    {
     "data": {
      "text/plain": [
       "<tensorflow.python.checkpoint.checkpoint.CheckpointLoadStatus at 0x232911ccc90>"
      ]
     },
     "execution_count": 7,
     "metadata": {},
     "output_type": "execute_result"
    }
   ],
   "source": [
    "model.load_weights(\"MASHROOM_CLASSIFICATION/cp.ckpt\")"
   ]
  },
  {
   "cell_type": "code",
   "execution_count": 8,
   "metadata": {},
   "outputs": [
    {
     "name": "stdout",
     "output_type": "stream",
     "text": [
      "Model: \"model\"\n",
      "__________________________________________________________________________________________________\n",
      " Layer (type)                Output Shape                 Param #   Connected to                  \n",
      "==================================================================================================\n",
      " input_1 (InputLayer)        [(None, 18)]                 0         []                            \n",
      "                                                                                                  \n",
      " dense (Dense)               (None, 18)                   342       ['input_1[0][0]']             \n",
      "                                                                                                  \n",
      " dense_1 (Dense)             (None, 36)                   684       ['dense[0][0]']               \n",
      "                                                                                                  \n",
      " dense_2 (Dense)             (None, 18)                   666       ['dense_1[0][0]']             \n",
      "                                                                                                  \n",
      " tf.__operators__.add (TFOp  (None, 18)                   0         ['dense_2[0][0]',             \n",
      " Lambda)                                                             'dense[0][0]']               \n",
      "                                                                                                  \n",
      " dense_3 (Dense)             (None, 28)                   532       ['tf.__operators__.add[0][0]']\n",
      "                                                                                                  \n",
      " dense_4 (Dense)             (None, 20)                   580       ['dense_3[0][0]']             \n",
      "                                                                                                  \n",
      " dense_5 (Dense)             (None, 20)                   420       ['dense_4[0][0]']             \n",
      "                                                                                                  \n",
      " dropout (Dropout)           (None, 20)                   0         ['dense_5[0][0]']             \n",
      "                                                                                                  \n",
      " tf.__operators__.add_1 (TF  (None, 20)                   0         ['dense_4[0][0]',             \n",
      " OpLambda)                                                           'dropout[0][0]']             \n",
      "                                                                                                  \n",
      " dense_6 (Dense)             (None, 16)                   336       ['tf.__operators__.add_1[0][0]\n",
      "                                                                    ']                            \n",
      "                                                                                                  \n",
      " dense_7 (Dense)             (None, 10)                   170       ['dense_6[0][0]']             \n",
      "                                                                                                  \n",
      " dense_8 (Dense)             (None, 10)                   110       ['dense_7[0][0]']             \n",
      "                                                                                                  \n",
      " dropout_1 (Dropout)         (None, 10)                   0         ['dense_8[0][0]']             \n",
      "                                                                                                  \n",
      " tf.__operators__.add_2 (TF  (None, 10)                   0         ['dropout_1[0][0]',           \n",
      " OpLambda)                                                           'dense_7[0][0]']             \n",
      "                                                                                                  \n",
      " dense_9 (Dense)             (None, 5)                    55        ['tf.__operators__.add_2[0][0]\n",
      "                                                                    ']                            \n",
      "                                                                                                  \n",
      " dense_10 (Dense)            (None, 1)                    6         ['dense_9[0][0]']             \n",
      "                                                                                                  \n",
      "==================================================================================================\n",
      "Total params: 3901 (15.24 KB)\n",
      "Trainable params: 3901 (15.24 KB)\n",
      "Non-trainable params: 0 (0.00 Byte)\n",
      "__________________________________________________________________________________________________\n"
     ]
    }
   ],
   "source": [
    "model.summary()"
   ]
  },
  {
   "cell_type": "markdown",
   "metadata": {},
   "source": [
    "Now lets build pipeline"
   ]
  },
  {
   "cell_type": "code",
   "execution_count": 50,
   "metadata": {},
   "outputs": [],
   "source": [
    "class ModelPipeLine():\n",
    "    def __init__(self, X_data, y_data, imputer_model, minmax_scaler, ordinal_encoder, cats:dict, frequencies:dict):\n",
    "        self.X = X_data\n",
    "        self.y = y_data\n",
    "        self.imputer = imputer_model\n",
    "        self.minmax_scaler = minmax_scaler\n",
    "        self.ordinal_encoder = ordinal_encoder\n",
    "        self.cats = cats\n",
    "        self.frequencies = frequencies\n",
    "\n",
    "    def __drops(self):\n",
    "        #drop useless features\n",
    "        self.X.drop(columns = ['veil-type','veil-color','id'], inplace = True)\n",
    "        self.y.drop(columns = ['id'],inplace = True)\n",
    "\n",
    "        #Null values\n",
    "        columns = ['gill-color','cap-diameter','cap-shape','cap-color','does-bruise-or-bleed','stem-color','has-ring','habitat','ring-type','stem-height']\n",
    "        for i in columns:\n",
    "            self.X.fillna({i:self.X[i].value_counts().index.tolist()[0]},inplace = True)\n",
    "        #********\n",
    "        print(\"few nulls:\",self.X.isna().sum())\n",
    "\n",
    "        self.categorical_vars = [\n",
    "             var for var in self.X.select_dtypes(\n",
    "             include=\"O\").columns.to_list() if var !=\"target\"\n",
    "             ]\n",
    "        \n",
    "        #Dropping rare categories\n",
    "        for i in self.cats.keys():\n",
    "            self.X.loc[~self.X[i].isin(self.cats[i]),i] = 'unkown'\n",
    "        \n",
    "        #********\n",
    "        print(\"cats:\",self.X.isna().sum())\n",
    "\n",
    "\n",
    "    \n",
    "    def __ImputingNullValues(self):\n",
    "        self.X['stem-root'] = self.X['stem-root'].fillna('unkown')\n",
    "        self.X['spore-print-color'] = self.X['spore-print-color'].fillna('unkown')\n",
    "        self.X['stem-surface'] = self.X['stem-surface'].fillna('unkown')\n",
    "        self.X['gill-spacing'] = self.X['gill-spacing'].fillna('unkown')\n",
    "\n",
    "        #********\n",
    "        print(\"fiilna:\",self.X.isna().sum())\n",
    "\n",
    "        #Freqency Encoding\n",
    "        Encode1  = self.categorical_vars.copy()\n",
    "        Encode1.remove('cap-surface')\n",
    "        Encode1.remove('gill-attachment')\n",
    "        \n",
    "        self.X2 = self.X.copy()\n",
    "        for i in Encode1:\n",
    "            frequency = self.frequencies[i]\n",
    "            self.X[i] = self.X[i].map(frequency)\n",
    "        \n",
    "        \n",
    "        #********\n",
    "        print(\"frequency:\",self.X.isna().sum())\n",
    "\n",
    "        #error point\n",
    "        for j in self.categorical_vars:\n",
    "            if 'unkown' in self.X[j]:\n",
    "               self.X[j] = self.X[j].replace({'unkown':0})\n",
    "\n",
    "        #Imputing with Randomforest model\n",
    "\n",
    "        self.X = self.ordinal_encoder.transform(self.X)\n",
    "        #******\n",
    "        print(\"ordinal_encoder:\",self.X.isna().sum())\n",
    "\n",
    "        x = self.X.drop('cap-surface', axis=1)\n",
    "        y = self.X['cap-surface'].copy()\n",
    "\n",
    "        X_missing = x[y.isna()]\n",
    "        if len(X_missing)>0:\n",
    "           self.X.loc[y.isna(),'cap-surface'] = self.imputer.predict(X_missing)\n",
    "        #*****\n",
    "        print(\"imputer:\",self.X.isna().sum())\n",
    "        \n",
    "        #Imputing and encoding what remained\n",
    "        frequency = self.frequencies['cap-surface']\n",
    "        self.X['cap-surface'] = self.X['cap-surface'].map(frequency)\n",
    "\n",
    "        self.X = self.X.fillna(0)\n",
    "        \n",
    "        frequency = self.frequencies['gill-attachment']\n",
    "        self.X['gill-attachment'] = self.X['gill-attachment'].map(frequency)\n",
    "    \n",
    "\n",
    "    def __ScalingNumericalVars(self):\n",
    "        self.X[['cap-diameter', 'stem-height', 'stem-width']] = self.minmax_scaler.transform(self.X[['cap-diameter', 'stem-height', 'stem-width']])\n",
    "    \n",
    "\n",
    "    def __LabelEncoding(self):\n",
    "        labels = {\"p\":1 ,\"e\":0}\n",
    "        self.y.replace(labels, inplace=True)\n",
    "    \n",
    "    def transform(self):\n",
    "        self.__drops()\n",
    "        #try:\n",
    "        self.__ImputingNullValues()\n",
    "        #except: \n",
    "          #unkowns = []\n",
    "          #for i in self.categorical_vars:\n",
    "              #l = self.X[i].value_counts()\n",
    "              #print(l['unkown'])\n",
    "          #return None,None\n",
    "        self.__ScalingNumericalVars()\n",
    "        self.__LabelEncoding()\n",
    "        X = tf.convert_to_tensor(self.X.values)\n",
    "        y = tf.convert_to_tensor(self.y.values)\n",
    "        y = tf.cast(y,dtype=tf.float64)\n",
    "        X = tf.cast(X,dtype=tf.float64)\n",
    "        return X,y,self.X,self.X2\n",
    "\n",
    "\n",
    "        "
   ]
  },
  {
   "cell_type": "code",
   "execution_count": 10,
   "metadata": {},
   "outputs": [],
   "source": [
    "import pickle\n",
    "imputer = pickle.load(open(\"imputer.pkl\", 'rb'))"
   ]
  },
  {
   "cell_type": "code",
   "execution_count": 11,
   "metadata": {},
   "outputs": [],
   "source": [
    "MINMAX_SCALER = joblib.load('minmax_scaler.pkl')"
   ]
  },
  {
   "cell_type": "code",
   "execution_count": 12,
   "metadata": {},
   "outputs": [],
   "source": [
    "OrdinalEncoder = joblib.load('ordinal_encoder.pkl')"
   ]
  },
  {
   "cell_type": "code",
   "execution_count": 13,
   "metadata": {},
   "outputs": [],
   "source": [
    "frequencies = joblib.load('frequencies')"
   ]
  },
  {
   "cell_type": "code",
   "execution_count": 14,
   "metadata": {},
   "outputs": [],
   "source": [
    "Xtest = pd.read_csv('test/test.csv')\n",
    "ytest = pd.read_csv('sample_submission/sample_submission.csv')"
   ]
  },
  {
   "cell_type": "code",
   "execution_count": 44,
   "metadata": {},
   "outputs": [],
   "source": [
    "categories = {'cap-shape': ['x', 'o', 'b', 'f', 's', 'p', 'c'],\n",
    " 'cap-surface': [np.nan, 'g', 'k', 's', 'y', 'e', 'i', 'd', 'w', 'h', 't', 'l'],\n",
    " 'cap-color': ['w', 'e', 'n', 'u', 'y', 'l', 'g', 'r', 'p', 'o', 'k', 'b'],\n",
    " 'does-bruise-or-bleed': ['f', 't'],\n",
    " 'gill-attachment': ['x', 'a', np.nan, 's', 'd', 'e', 'p', 'f'],\n",
    " 'gill-spacing': ['c', 'unkown', 'f', 'd'],\n",
    " 'gill-color': ['p', 'n', 'o', 'w', 'y', 'f', 'g', 'r', 'k', 'b', 'u', 'e'],\n",
    " 'stem-root': ['unkown', 's', 'c', 'b', 'r', 'f'],\n",
    " 'stem-surface': ['unkown', 'h', 'y', 's', 't', 'i', 'g', 'k', 'f'],\n",
    " 'stem-color': ['p',\n",
    "  'y',\n",
    "  'w',\n",
    "  'n',\n",
    "  'g',\n",
    "  'r',\n",
    "  'e',\n",
    "  'o',\n",
    "  'u',\n",
    "  'l',\n",
    "  'k',\n",
    "  'b',\n",
    "  'f'],\n",
    " 'has-ring': ['f', 't'],\n",
    " 'ring-type': ['f', 'r', 'l', 'e', 'z', 'p', 'g', 'm'],\n",
    " 'spore-print-color': ['unkown', 'p', 'k', 'w', 'n', 'g', 'r', 'u'],\n",
    " 'habitat': ['l', 'd', 'm', 'g', 'h', 'w', 'p', 'u'],\n",
    " 'season': ['a', 's', 'u', 'w']}"
   ]
  },
  {
   "cell_type": "code",
   "execution_count": 51,
   "metadata": {},
   "outputs": [],
   "source": [
    "PipeLine = ModelPipeLine(\n",
    "    X_data= Xtest.copy(),\n",
    "    y_data= ytest.copy(),\n",
    "    imputer_model= imputer,\n",
    "    minmax_scaler= MINMAX_SCALER,\n",
    "    ordinal_encoder= OrdinalEncoder,\n",
    "    cats= categories,\n",
    "    frequencies= frequencies\n",
    ")"
   ]
  },
  {
   "cell_type": "code",
   "execution_count": 52,
   "metadata": {},
   "outputs": [
    {
     "name": "stdout",
     "output_type": "stream",
     "text": [
      "few nulls: cap-diameter                  0\n",
      "cap-shape                     0\n",
      "cap-surface              446904\n",
      "cap-color                     0\n",
      "does-bruise-or-bleed          0\n",
      "gill-attachment          349821\n",
      "gill-spacing             839595\n",
      "gill-color                    0\n",
      "stem-height                   0\n",
      "stem-width                    0\n",
      "stem-root               1838012\n",
      "stem-surface            1321488\n",
      "stem-color                    0\n",
      "has-ring                      0\n",
      "ring-type                     0\n",
      "spore-print-color       1899617\n",
      "habitat                       0\n",
      "season                        0\n",
      "dtype: int64\n",
      "cats: cap-diameter                 0\n",
      "cap-shape                    0\n",
      "cap-surface             446904\n",
      "cap-color                    0\n",
      "does-bruise-or-bleed         0\n",
      "gill-attachment         349821\n",
      "gill-spacing                 0\n",
      "gill-color                   0\n",
      "stem-height                  0\n",
      "stem-width                   0\n",
      "stem-root                    0\n",
      "stem-surface                 0\n",
      "stem-color                   0\n",
      "has-ring                     0\n",
      "ring-type                    0\n",
      "spore-print-color            0\n",
      "habitat                      0\n",
      "season                       0\n",
      "dtype: int64\n",
      "fiilna: cap-diameter                 0\n",
      "cap-shape                    0\n",
      "cap-surface             446904\n",
      "cap-color                    0\n",
      "does-bruise-or-bleed         0\n",
      "gill-attachment         349821\n",
      "gill-spacing                 0\n",
      "gill-color                   0\n",
      "stem-height                  0\n",
      "stem-width                   0\n",
      "stem-root                    0\n",
      "stem-surface                 0\n",
      "stem-color                   0\n",
      "has-ring                     0\n",
      "ring-type                    0\n",
      "spore-print-color            0\n",
      "habitat                      0\n",
      "season                       0\n",
      "dtype: int64\n",
      "frequency: cap-diameter                 0\n",
      "cap-shape                    0\n",
      "cap-surface             446904\n",
      "cap-color                    0\n",
      "does-bruise-or-bleed         0\n",
      "gill-attachment         349821\n",
      "gill-spacing                 0\n",
      "gill-color                   0\n",
      "stem-height                  0\n",
      "stem-width                   0\n",
      "stem-root                    0\n",
      "stem-surface                 0\n",
      "stem-color                   0\n",
      "has-ring                     0\n",
      "ring-type                    0\n",
      "spore-print-color            0\n",
      "habitat                      0\n",
      "season                       0\n",
      "dtype: int64\n"
     ]
    },
    {
     "name": "stderr",
     "output_type": "stream",
     "text": [
      "c:\\Users\\Erfan\\.anaconda\\Lib\\site-packages\\feature_engine\\encoding\\base_encoder.py:260: UserWarning: During the encoding, NaN values were introduced in the feature(s) cap-surface, gill-attachment.\n",
      "  warnings.warn(\n"
     ]
    },
    {
     "name": "stdout",
     "output_type": "stream",
     "text": [
      "ordinal_encoder: cap-diameter                 0\n",
      "cap-shape                    0\n",
      "cap-surface             447295\n",
      "cap-color                    0\n",
      "does-bruise-or-bleed         0\n",
      "gill-attachment         350143\n",
      "gill-spacing                 0\n",
      "gill-color                   0\n",
      "stem-height                  0\n",
      "stem-width                   0\n",
      "stem-root                    0\n",
      "stem-surface                 0\n",
      "stem-color                   0\n",
      "has-ring                     0\n",
      "ring-type                    0\n",
      "spore-print-color            0\n",
      "habitat                      0\n",
      "season                       0\n",
      "dtype: int64\n",
      "imputer: cap-diameter                 0\n",
      "cap-shape                    0\n",
      "cap-surface                  0\n",
      "cap-color                    0\n",
      "does-bruise-or-bleed         0\n",
      "gill-attachment         350143\n",
      "gill-spacing                 0\n",
      "gill-color                   0\n",
      "stem-height                  0\n",
      "stem-width                   0\n",
      "stem-root                    0\n",
      "stem-surface                 0\n",
      "stem-color                   0\n",
      "has-ring                     0\n",
      "ring-type                    0\n",
      "spore-print-color            0\n",
      "habitat                      0\n",
      "season                       0\n",
      "dtype: int64\n"
     ]
    },
    {
     "name": "stderr",
     "output_type": "stream",
     "text": [
      "C:\\Users\\Erfan\\AppData\\Local\\Temp\\ipykernel_12428\\239794129.py:96: FutureWarning: Downcasting behavior in `replace` is deprecated and will be removed in a future version. To retain the old behavior, explicitly call `result.infer_objects(copy=False)`. To opt-in to the future behavior, set `pd.set_option('future.no_silent_downcasting', True)`\n",
      "  self.y.replace(labels, inplace=True)\n"
     ]
    }
   ],
   "source": [
    "X_test, y_test,px,px2 =  PipeLine.transform()"
   ]
  },
  {
   "cell_type": "code",
   "execution_count": 53,
   "metadata": {},
   "outputs": [
    {
     "data": {
      "text/plain": [
       "cap-diameter            0\n",
       "cap-shape               0\n",
       "cap-surface             0\n",
       "cap-color               0\n",
       "does-bruise-or-bleed    0\n",
       "gill-attachment         0\n",
       "gill-spacing            0\n",
       "gill-color              0\n",
       "stem-height             0\n",
       "stem-width              0\n",
       "stem-root               0\n",
       "stem-surface            0\n",
       "stem-color              0\n",
       "has-ring                0\n",
       "ring-type               0\n",
       "spore-print-color       0\n",
       "habitat                 0\n",
       "season                  0\n",
       "dtype: int64"
      ]
     },
     "execution_count": 53,
     "metadata": {},
     "output_type": "execute_result"
    }
   ],
   "source": [
    "px.isna().sum()"
   ]
  },
  {
   "cell_type": "code",
   "execution_count": 59,
   "metadata": {},
   "outputs": [
    {
     "name": "stdout",
     "output_type": "stream",
     "text": [
      "64937/64937 [==============================] - 63s 969us/step\n"
     ]
    }
   ],
   "source": [
    "X = model.predict(X_test)"
   ]
  },
  {
   "cell_type": "code",
   "execution_count": 99,
   "metadata": {},
   "outputs": [],
   "source": [
    "ytest['class'] = (X > 0.5).astype(int)"
   ]
  },
  {
   "cell_type": "code",
   "execution_count": 100,
   "metadata": {},
   "outputs": [
    {
     "data": {
      "text/html": [
       "<div>\n",
       "<style scoped>\n",
       "    .dataframe tbody tr th:only-of-type {\n",
       "        vertical-align: middle;\n",
       "    }\n",
       "\n",
       "    .dataframe tbody tr th {\n",
       "        vertical-align: top;\n",
       "    }\n",
       "\n",
       "    .dataframe thead th {\n",
       "        text-align: right;\n",
       "    }\n",
       "</style>\n",
       "<table border=\"1\" class=\"dataframe\">\n",
       "  <thead>\n",
       "    <tr style=\"text-align: right;\">\n",
       "      <th></th>\n",
       "      <th>id</th>\n",
       "      <th>class</th>\n",
       "    </tr>\n",
       "  </thead>\n",
       "  <tbody>\n",
       "    <tr>\n",
       "      <th>0</th>\n",
       "      <td>3116945</td>\n",
       "      <td>e</td>\n",
       "    </tr>\n",
       "    <tr>\n",
       "      <th>1</th>\n",
       "      <td>3116946</td>\n",
       "      <td>p</td>\n",
       "    </tr>\n",
       "    <tr>\n",
       "      <th>2</th>\n",
       "      <td>3116947</td>\n",
       "      <td>p</td>\n",
       "    </tr>\n",
       "    <tr>\n",
       "      <th>3</th>\n",
       "      <td>3116948</td>\n",
       "      <td>p</td>\n",
       "    </tr>\n",
       "    <tr>\n",
       "      <th>4</th>\n",
       "      <td>3116949</td>\n",
       "      <td>e</td>\n",
       "    </tr>\n",
       "    <tr>\n",
       "      <th>...</th>\n",
       "      <td>...</td>\n",
       "      <td>...</td>\n",
       "    </tr>\n",
       "    <tr>\n",
       "      <th>2077959</th>\n",
       "      <td>5194904</td>\n",
       "      <td>p</td>\n",
       "    </tr>\n",
       "    <tr>\n",
       "      <th>2077960</th>\n",
       "      <td>5194905</td>\n",
       "      <td>p</td>\n",
       "    </tr>\n",
       "    <tr>\n",
       "      <th>2077961</th>\n",
       "      <td>5194906</td>\n",
       "      <td>p</td>\n",
       "    </tr>\n",
       "    <tr>\n",
       "      <th>2077962</th>\n",
       "      <td>5194907</td>\n",
       "      <td>e</td>\n",
       "    </tr>\n",
       "    <tr>\n",
       "      <th>2077963</th>\n",
       "      <td>5194908</td>\n",
       "      <td>e</td>\n",
       "    </tr>\n",
       "  </tbody>\n",
       "</table>\n",
       "<p>2077964 rows × 2 columns</p>\n",
       "</div>"
      ],
      "text/plain": [
       "              id class\n",
       "0        3116945     e\n",
       "1        3116946     p\n",
       "2        3116947     p\n",
       "3        3116948     p\n",
       "4        3116949     e\n",
       "...          ...   ...\n",
       "2077959  5194904     p\n",
       "2077960  5194905     p\n",
       "2077961  5194906     p\n",
       "2077962  5194907     e\n",
       "2077963  5194908     e\n",
       "\n",
       "[2077964 rows x 2 columns]"
      ]
     },
     "execution_count": 100,
     "metadata": {},
     "output_type": "execute_result"
    }
   ],
   "source": [
    "ytest['class'] = ytest['class'].replace({1:'p',0:'e'})\n",
    "ytest"
   ]
  },
  {
   "cell_type": "code",
   "execution_count": 102,
   "metadata": {},
   "outputs": [],
   "source": [
    "ytest.to_csv(\"result.csv\",header=True,index=False)"
   ]
  }
 ],
 "metadata": {
  "kernelspec": {
   "display_name": "base",
   "language": "python",
   "name": "python3"
  },
  "language_info": {
   "codemirror_mode": {
    "name": "ipython",
    "version": 3
   },
   "file_extension": ".py",
   "mimetype": "text/x-python",
   "name": "python",
   "nbconvert_exporter": "python",
   "pygments_lexer": "ipython3",
   "version": "3.11.7"
  }
 },
 "nbformat": 4,
 "nbformat_minor": 2
}
